{
 "cells": [
  {
   "cell_type": "markdown",
   "metadata": {},
   "source": [
    "# Reddit r/jokes Analysis"
   ]
  },
  {
   "cell_type": "markdown",
   "metadata": {},
   "source": [
    "Setup: Please run `downloader.py` to get your data. You may get some KeyError's - these are due to pushshift cutting requests short in order to reduce traffic. Restart the process from the latest year which wasn't yet saved to your machine.\n",
    "\n",
    "Once you get your json files you can start the analysis!"
   ]
  },
  {
   "cell_type": "markdown",
   "metadata": {},
   "source": [
    "## Imports"
   ]
  },
  {
   "cell_type": "code",
   "execution_count": 158,
   "metadata": {},
   "outputs": [],
   "source": [
    "import json\n",
    "import matplotlib.pyplot as plt\n",
    "from collections import Counter\n",
    "from nltk.corpus import stopwords\n",
    "import math"
   ]
  },
  {
   "cell_type": "markdown",
   "metadata": {},
   "source": [
    "## Data loading and preprocessing"
   ]
  },
  {
   "cell_type": "code",
   "execution_count": 127,
   "metadata": {},
   "outputs": [],
   "source": [
    "stop_words = set(stopwords.words('english'))\n",
    "\n",
    "jokes = {}\n",
    "for year in range(2010, 2020):\n",
    "    jokes[year] = []\n",
    "    with open(f'reddit_jokes_{year}.json') as json_file:\n",
    "        year_jokes = json.load(json_file)\n",
    "            \n",
    "        year_jokes = [joke for joke in year_jokes if 'selftext' in joke.keys()]\n",
    "        year_jokes = [joke for joke in year_jokes if joke['title'] not in ['[removed]', '[deleted]', 'removed', 'deleted', '']]\n",
    "        year_jokes = [joke for joke in year_jokes if joke['selftext'] not in ['[removed]', '[deleted]', 'removed', 'deleted', '']]\n",
    "        \n",
    "        for joke in year_jokes:\n",
    "            joke['year'] = year\n",
    "            words = joke['title'] + ' ' + joke['selftext']\n",
    "            # delete these since we absorbed them\n",
    "            joke.pop('title', None)\n",
    "            joke.pop('selftext', None)\n",
    "            \n",
    "            # we don't need these for now either\n",
    "            joke.pop('created_utc', None)\n",
    "            # joke.pop('url', None)\n",
    "            # we'll keep the url to double-check the output\n",
    "            \n",
    "            # remove punctuation\n",
    "            words = words.split()\n",
    "            words = [''.join(ch for ch in word if ch.isalnum()) for word in words]\n",
    "\n",
    "            # all words to lowercase\n",
    "            words = [word.lower() for word in words]\n",
    "            \n",
    "            words = [word for word in words if word != '']\n",
    "            # filter out english stopwords\n",
    "            filtered_words = []\n",
    "            for w in words: \n",
    "                if w not in stop_words: \n",
    "                    filtered_words.append(w)\n",
    "                    \n",
    "            joke['words'] = filtered_words\n",
    "            \n",
    "            \n",
    "        jokes[year].extend(year_jokes)"
   ]
  },
  {
   "cell_type": "code",
   "execution_count": 138,
   "metadata": {},
   "outputs": [
    {
     "name": "stdout",
     "output_type": "stream",
     "text": [
      "Number of jokes from 2010: 247\n",
      "Number of jokes from 2011: 3860\n",
      "Number of jokes from 2012: 12114\n",
      "Number of jokes from 2013: 15969\n",
      "Number of jokes from 2014: 31323\n",
      "Number of jokes from 2015: 63644\n",
      "Number of jokes from 2016: 52384\n",
      "Number of jokes from 2017: 43411\n",
      "Number of jokes from 2018: 66188\n",
      "Number of jokes from 2019: 72127\n",
      "Total: 361267\n"
     ]
    }
   ],
   "source": [
    "total_joke_count = 0\n",
    "for year in range(2010, 2020):\n",
    "    crt = len(jokes[year])\n",
    "    print(f'Number of jokes from {year}: {crt}')\n",
    "    total_joke_count += crt\n",
    "    \n",
    "print(f'Total: {total_joke_count}')"
   ]
  },
  {
   "cell_type": "code",
   "execution_count": 129,
   "metadata": {},
   "outputs": [
    {
     "name": "stdout",
     "output_type": "stream",
     "text": [
      "{'num_comments': 23, 'over_18': False, 'score': 14, 'url': 'http://www.reddit.com/r/Jokes/comments/euhyt/the_old_soldiers_home/', 'year': 2011, 'words': ['old', 'soldiers', 'home', 'historian', 'visiting', 'retirement', 'home', 'old', 'soldiers', 'turned', 'heard', 'others', 'stories', 'jokes', 'often', 'assigned', 'number', 'six', 'one', 'would', 'shout', 'corner', 'old', 'men', 'rocking', 'chairs', 'would', 'give', 'chuckle', 'fourteen', 'another', 'yelled', 'side', 'room', 'bigger', 'laugh', 'erupted', 'assembled', 'group', 'wanting', 'part', 'fun', 'historian', 'joined', 'three', 'got', 'nothing', 'whats', 'wrong', 'didnt', 'anyone', 'laugh', 'historian', 'asked', 'nearest', 'retiree', 'old', 'man', 'replied', 'ehh', 'didnt', 'tell', 'right']}\n"
     ]
    }
   ],
   "source": [
    "print(jokes[2011][0])"
   ]
  },
  {
   "cell_type": "markdown",
   "metadata": {},
   "source": [
    "## Breakdown by year\n",
    "\n",
    "Since our analysis is limited in that we only extracted at most 7000 jokes for each month in the analysis' period, we should take all of this data with a grain of salt as there might have been many, many more posts that have gone unnoticed."
   ]
  },
  {
   "cell_type": "markdown",
   "metadata": {
    "jupyter": {
     "source_hidden": true
    }
   },
   "source": [
    "## r/Jokes subscribers"
   ]
  },
  {
   "cell_type": "markdown",
   "metadata": {
    "jupyter": {
     "source_hidden": true
    }
   },
   "source": [
    "![](subscribers.png \"Subsriber count evolution (thanks to subredditstats.com)\")\n",
    "\n",
    "Current number of subscribers (as of Apr. 2020): **18.3M**\n",
    "\n",
    "**This aspect above is really important! The number of subscribers influences all of the numbers below!**"
   ]
  },
  {
   "cell_type": "markdown",
   "metadata": {
    "jupyter": {
     "source_hidden": true
    }
   },
   "source": [
    "## Total score by year"
   ]
  },
  {
   "cell_type": "code",
   "execution_count": 122,
   "metadata": {
    "collapsed": true,
    "jupyter": {
     "outputs_hidden": true,
     "source_hidden": true
    }
   },
   "outputs": [
    {
     "data": {
      "image/png": "[encoded data removed]",
      "text/plain": [
       "<Figure size 432x288 with 1 Axes>"
      ]
     },
     "metadata": {
      "needs_background": "light"
     },
     "output_type": "display_data"
    }
   ],
   "source": [
    "fig = plt.figure()\n",
    "ax = fig.add_axes([0,0,1,1])\n",
    "years = range(2010, 2020)\n",
    "\n",
    "total_score = {}\n",
    "for year in years:\n",
    "    total_score[year] = 0\n",
    "    for joke in jokes[year]:\n",
    "        total_score[year] += joke['score']\n",
    "    \n",
    "total_scores = [total_score[year]/1000000 for year in years]\n",
    "ax.bar(years, total_scores)\n",
    "\n",
    "plt.title('Total score by year')\n",
    "plt.xticks(years)\n",
    "plt.ylabel('Total score')\n",
    "plt.yticks(range(0, 13, 2), [f'{score}.0M' for score in range(0, 13, 2)])\n",
    "plt.show()"
   ]
  },
  {
   "cell_type": "markdown",
   "metadata": {
    "jupyter": {
     "source_hidden": true
    }
   },
   "source": [
    "## Maximum score by year"
   ]
  },
  {
   "cell_type": "code",
   "execution_count": 126,
   "metadata": {
    "collapsed": true,
    "jupyter": {
     "outputs_hidden": true
    }
   },
   "outputs": [
    {
     "data": {
      "image/png": "[encoded data removed]",
      "text/plain": [
       "<Figure size 432x288 with 1 Axes>"
      ]
     },
     "metadata": {
      "needs_background": "light"
     },
     "output_type": "display_data"
    }
   ],
   "source": [
    "fig = plt.figure()\n",
    "ax = fig.add_axes([0,0,1,1])\n",
    "years = range(2010, 2020)\n",
    "\n",
    "max_score = {}\n",
    "for year in years:\n",
    "    max_score[year] = 0\n",
    "    for joke in jokes[year]:\n",
    "        if max_score[year] < joke['score']:\n",
    "            max_score[year] = joke['score']\n",
    "        \n",
    "max_scores = [max_score[year]/1000 for year in years]\n",
    "ax.bar(years, max_scores)\n",
    "\n",
    "plt.title('Maximum score by year')\n",
    "plt.xticks(years)\n",
    "plt.yticks(range(0, 121, 20), [f'{score}.0k' for score in range(0, 121, 20)])\n",
    "plt.ylabel('Score')\n",
    "plt.show()"
   ]
  },
  {
   "cell_type": "markdown",
   "metadata": {},
   "source": [
    "## Breakdown by score"
   ]
  },
  {
   "cell_type": "code",
   "execution_count": 130,
   "metadata": {},
   "outputs": [],
   "source": [
    "all_jokes = []\n",
    "years = range(2010, 2020)\n",
    "for year in years:\n",
    "    all_jokes.extend(jokes[year])"
   ]
  },
  {
   "cell_type": "code",
   "execution_count": 135,
   "metadata": {},
   "outputs": [],
   "source": [
    "score_limits = [0, 100, 500, 1000, 5000, 10000, 50000, 100000, 500000]\n",
    "jokes_by_score = {}\n",
    "for limit in score_limits:\n",
    "    jokes_by_score[limit] = 0\n",
    "\n",
    "for joke in all_jokes:\n",
    "    for limit in score_limits:\n",
    "        if joke['score'] <= limit:\n",
    "            jokes_by_score[limit] += 1\n",
    "            break"
   ]
  },
  {
   "cell_type": "code",
   "execution_count": 199,
   "metadata": {},
   "outputs": [
    {
     "data": {
      "image/png": "[encoded data removed]",
      "text/plain": [
       "<Figure size 1440x720 with 2 Axes>"
      ]
     },
     "metadata": {
      "needs_background": "light"
     },
     "output_type": "display_data"
    }
   ],
   "source": [
    "sizes = [jokes_by_score[limit] for limit in score_limits]\n",
    "xlabels = ['0', '1-100', '101-500', '501-1000', '1k-5k', '5k-10k', '10k-50k', '50k-100k', '100k-500k'] \n",
    "\n",
    "fig, (loga, deci) = plt.subplots(1, 2, figsize=(20, 10))\n",
    "\n",
    "loga.bar(range(len(score_limits)), sizes)\n",
    "loga.set_yscale('log')\n",
    "loga.set_ylabel('Number of jokes')\n",
    "loga.set_xticks(range(len(score_limits)))\n",
    "loga.set_xticklabels(xlabels)\n",
    "loga.set_xlabel('Score of joke')\n",
    "loga.set_title('Joke breakdown by score - logarithmic')\n",
    "for i, v in enumerate([jokes_by_score[limit] for limit in score_limits]):\n",
    "    loga.text(i - 0.1, v + 2, str(v), color='black')\n",
    "\n",
    "deci.bar(range(len(score_limits)), sizes)\n",
    "deci.set_ylabel('Number of jokes')\n",
    "deci.set_xticks(range(len(score_limits)))\n",
    "deci.set_xticklabels(xlabels)\n",
    "deci.set_xlabel('Score of joke')\n",
    "deci.set_title('Joke breakdown by score')\n",
    "for i, v in enumerate([jokes_by_score[limit] for limit in score_limits]):\n",
    "    deci.text(i - 0.1, v + 2, str(v), color='black')\n",
    "\n",
    "plt.show()"
   ]
  },
  {
   "cell_type": "markdown",
   "metadata": {},
   "source": [
    "**Unfortunately our dataset is not evenly distributed at all.**\n",
    "\n",
    "Going further, first, we'll analyze the top (+5k scored) jokes. After this we'll take a closer look at the 0-5k range, and then create a classifier to give us a score based on our joke."
   ]
  },
  {
   "cell_type": "markdown",
   "metadata": {},
   "source": [
    "## Top jokes"
   ]
  },
  {
   "cell_type": "code",
   "execution_count": 204,
   "metadata": {},
   "outputs": [
    {
     "name": "stdout",
     "output_type": "stream",
     "text": [
      "1349 top rated jokes (with +5.0k score)\n"
     ]
    }
   ],
   "source": [
    "top_rated = []\n",
    "years = range(2010, 2020)\n",
    "for year in years:\n",
    "    for joke in jokes[year]:\n",
    "        if joke['score'] > 5000:\n",
    "            top_rated.append(joke)\n",
    "            \n",
    "print(f'{len(top_rated)} top rated jokes (with +5.0k score)')"
   ]
  },
  {
   "cell_type": "markdown",
   "metadata": {},
   "source": [
    "### Future features:\n",
    "\n",
    "- Top jokes analysis\n",
    "- is NSFW joke better on average\n",
    "- average joke length/score\n"
   ]
  }
 ],
 "metadata": {
  "kernelspec": {
   "display_name": "Python 3",
   "language": "python",
   "name": "python3"
  },
  "language_info": {
   "codemirror_mode": {
    "name": "ipython",
    "version": 3
   },
   "file_extension": ".py",
   "mimetype": "text/x-python",
   "name": "python",
   "nbconvert_exporter": "python",
   "pygments_lexer": "ipython3",
   "version": "3.7.3"
  }
 },
 "nbformat": 4,
 "nbformat_minor": 4
}
